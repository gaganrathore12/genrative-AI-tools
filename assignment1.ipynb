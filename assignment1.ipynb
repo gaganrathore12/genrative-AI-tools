{
 "cells": [
  {
   "cell_type": "code",
   "execution_count": 2,
   "id": "fd6c59f4-186c-4527-8191-9bdc302d69d8",
   "metadata": {},
   "outputs": [
    {
     "name": "stdout",
     "output_type": "stream",
     "text": [
      " NLP stands for Natural Language Processing using the variables provided.\n"
     ]
    }
   ],
   "source": [
    "#Print an f-string that displays NLP stands for Natural Language Processing using the variables provided.\n",
    "f_string = \" NLP stands for Natural Language Processing using the variables provided.\"\n",
    "print(f'{f_string}')"
   ]
  },
  {
   "cell_type": "code",
   "execution_count": 3,
   "id": "7bb5e70a-0c22-4032-a097-6c49b2bb6c71",
   "metadata": {},
   "outputs": [
    {
     "name": "stdout",
     "output_type": "stream",
     "text": [
      "Writing contacts.txt\n"
     ]
    }
   ],
   "source": [
    "#C1reate a file in the current working directory called contacts.txt by running the cell below.\n",
    "%%writefile contacts.txt\n",
    "email,p_number,ip_adress,town."
   ]
  },
  {
   "cell_type": "code",
   "execution_count": null,
   "id": "62372ff5-3078-43b5-8b7f-f2f246c7dabb",
   "metadata": {},
   "outputs": [],
   "source": [
    " #2Open the file and use .read() to save the contents of the file to a string called fields. Make sure the file is closed at the end."
   ]
  },
  {
   "cell_type": "code",
   "execution_count": 6,
   "id": "abb6f9aa-e797-4e10-a131-0ce8e2bcdd07",
   "metadata": {},
   "outputs": [],
   "source": [
    "my_file = open(\"contacts.txt\")"
   ]
  },
  {
   "cell_type": "code",
   "execution_count": 7,
   "id": "9b9fc02a-f61e-46fb-898f-f164fce218fc",
   "metadata": {},
   "outputs": [
    {
     "data": {
      "text/plain": [
       "<_io.TextIOWrapper name='contacts.txt' mode='r' encoding='cp1252'>"
      ]
     },
     "execution_count": 7,
     "metadata": {},
     "output_type": "execute_result"
    }
   ],
   "source": [
    "my_file"
   ]
  },
  {
   "cell_type": "code",
   "execution_count": 8,
   "id": "981b03c6-6a8c-498c-b4c2-6967945d001e",
   "metadata": {},
   "outputs": [
    {
     "data": {
      "text/plain": [
       "'email,p_number,ip_adress,town.\\n'"
      ]
     },
     "execution_count": 8,
     "metadata": {},
     "output_type": "execute_result"
    }
   ],
   "source": [
    "my_file.read()"
   ]
  },
  {
   "cell_type": "code",
   "execution_count": 10,
   "id": "f7e5f9a8-ecd6-4ae4-a43a-0566a1d31262",
   "metadata": {},
   "outputs": [],
   "source": [
    "my_file.close()"
   ]
  },
  {
   "cell_type": "code",
   "execution_count": 19,
   "id": "0bd0acf5-a4e9-417f-95d1-804c54d916df",
   "metadata": {},
   "outputs": [
    {
     "name": "stdout",
     "output_type": "stream",
     "text": [
      "Requirement already satisfied: PyPDF2 in c:\\users\\gagan rathore\\onedrive\\documents\\conda\\conda\\lib\\site-packages (3.0.1)\n",
      "Note: you may need to restart the kernel to use updated packages.\n"
     ]
    }
   ],
   "source": [
    "#3 Use PyPDF2 to open the file Business_Proposal.pdf. Extract the text of page 2.\n",
    "pip install PyPDF2"
   ]
  },
  {
   "cell_type": "code",
   "execution_count": 23,
   "id": "29a77560-7500-435d-8c76-f5f094e7b632",
   "metadata": {},
   "outputs": [],
   "source": [
    "# 4Use PyPDF2 to open the file Business_Proposal.pdf. Extract the text of page 2.\n",
    "import PyPDF2"
   ]
  },
  {
   "cell_type": "code",
   "execution_count": 26,
   "id": "1b41015d-24fd-4ed2-8b29-932b0c2ff989",
   "metadata": {},
   "outputs": [],
   "source": [
    "f = open(\"Business_Proposal.pdf\",\"rb\")"
   ]
  },
  {
   "cell_type": "code",
   "execution_count": 27,
   "id": "45c0b2c2-4f1e-43b5-ac81-4f7e49990e2b",
   "metadata": {},
   "outputs": [],
   "source": [
    "pdf_reader= PyPDF2.PdfReader(f)"
   ]
  },
  {
   "cell_type": "code",
   "execution_count": 28,
   "id": "ad5d818f-140d-4deb-8e26-de681cc092f2",
   "metadata": {},
   "outputs": [],
   "source": [
    "page_two = pdf_reader.pages[1]"
   ]
  },
  {
   "cell_type": "code",
   "execution_count": 29,
   "id": "726a6d61-2ef8-4334-acb6-c28008f2517e",
   "metadata": {},
   "outputs": [],
   "source": [
    "page_two_text = page_two.extract_text()"
   ]
  },
  {
   "cell_type": "code",
   "execution_count": 30,
   "id": "21f38162-48a5-44fc-bffc-c3a9c410ce5f",
   "metadata": {},
   "outputs": [
    {
     "data": {
      "text/plain": [
       "'AUTHORS:  \\nAmy Baker, Finance Chair, x345, abaker@ourcompany.com  \\nChris Donaldson, Accounting Dir., x621, cdonaldson@ourcompany.com  \\nErin Freeman, Sr. VP, x879, efreeman@ourcompany.com  '"
      ]
     },
     "execution_count": 30,
     "metadata": {},
     "output_type": "execute_result"
    }
   ],
   "source": [
    "page_two_text"
   ]
  },
  {
   "cell_type": "code",
   "execution_count": 31,
   "id": "f0e9dde0-5f98-46b3-b605-40520eeff765",
   "metadata": {},
   "outputs": [],
   "source": [
    "f.close()"
   ]
  },
  {
   "cell_type": "code",
   "execution_count": null,
   "id": "77b32c59-af95-400b-9477-5d7b5b45072c",
   "metadata": {},
   "outputs": [],
   "source": [
    "#5. Open the file contacts.txt in append mode. Add the text of page 2 from above to contacts.txt."
   ]
  },
  {
   "cell_type": "code",
   "execution_count": 32,
   "id": "921235df-d8fc-4807-8c7e-52b8d1cdad3a",
   "metadata": {},
   "outputs": [
    {
     "data": {
      "text/plain": [
       "'email,p_number,ip_adress,town.\\nAUTHORS:  \\nAmy Baker, Finance Chair, x345, abaker@ourcompany.com  \\nChris Donaldson, Accounting Dir., x621, cdonaldson@ourcompany.com  \\nErin Freeman, Sr. VP, x879, efreeman@ourcompany.com  '"
      ]
     },
     "execution_count": 32,
     "metadata": {},
     "output_type": "execute_result"
    }
   ],
   "source": [
    "my_file = open('contacts.txt','a+')\n",
    "my_file.write(page_two_text)\n",
    "my_file.seek(0)\n",
    "my_file.read()"
   ]
  },
  {
   "cell_type": "code",
   "execution_count": 33,
   "id": "677e8585-011f-4ec9-85b4-25b03c58f4ef",
   "metadata": {},
   "outputs": [],
   "source": [
    "#6. Using the page_two_text variable created above, extract any email addresses that were contained in the file Business_Proposal.pdf.\n",
    "import re"
   ]
  },
  {
   "cell_type": "code",
   "execution_count": 34,
   "id": "917c8fc5-d844-4774-9079-9fa7bc05b5a2",
   "metadata": {},
   "outputs": [
    {
     "data": {
      "text/plain": [
       "<re.Match object; span=(43, 64), match='abaker@ourcompany.com'>"
      ]
     },
     "execution_count": 34,
     "metadata": {},
     "output_type": "execute_result"
    }
   ],
   "source": [
    "pattern = r'\\w+@\\w+.\\w{3}'\n",
    "re.search(pattern , page_two_text)"
   ]
  },
  {
   "cell_type": "code",
   "execution_count": null,
   "id": "49d26c98-467f-4210-8b75-8d45027f6b8f",
   "metadata": {},
   "outputs": [],
   "source": []
  }
 ],
 "metadata": {
  "kernelspec": {
   "display_name": "Python 3 (ipykernel)",
   "language": "python",
   "name": "python3"
  },
  "language_info": {
   "codemirror_mode": {
    "name": "ipython",
    "version": 3
   },
   "file_extension": ".py",
   "mimetype": "text/x-python",
   "name": "python",
   "nbconvert_exporter": "python",
   "pygments_lexer": "ipython3",
   "version": "3.12.7"
  }
 },
 "nbformat": 4,
 "nbformat_minor": 5
}
