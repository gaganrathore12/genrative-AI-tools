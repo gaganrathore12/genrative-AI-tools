{
  "nbformat": 4,
  "nbformat_minor": 0,
  "metadata": {
    "colab": {
      "provenance": []
    },
    "kernelspec": {
      "name": "python3",
      "display_name": "Python 3"
    },
    "language_info": {
      "name": "python"
    }
  },
  "cells": [
    {
      "cell_type": "markdown",
      "source": [
        "Create a Doc object from the file owlcreek.txt"
      ],
      "metadata": {
        "id": "xvMxDA1m_x86"
      }
    },
    {
      "cell_type": "code",
      "execution_count": 2,
      "metadata": {
        "id": "bmlPoS3-4fXH"
      },
      "outputs": [],
      "source": [
        "\n",
        "import spacy\n",
        "\n",
        "\n",
        "nlp = spacy.load(\"en_core_web_sm\")\n",
        "with open('/content/owlcreek.txt', 'r') as file:\n",
        "    text = file.read()\n",
        "\n",
        "# Create a Doc object\n",
        "doc = nlp(text)"
      ]
    },
    {
      "cell_type": "markdown",
      "source": [
        "How many tokens are contained in the file?"
      ],
      "metadata": {
        "id": "JXW6k_eQ_2By"
      }
    },
    {
      "cell_type": "code",
      "source": [
        "token_count = len(doc)\n",
        "print(f\"Number of tokens in the file: {token_count}\")"
      ],
      "metadata": {
        "colab": {
          "base_uri": "https://localhost:8080/"
        },
        "id": "X75JgbjB57nS",
        "outputId": "f13be6ab-3929-4bae-a401-d76109ebad10"
      },
      "execution_count": 4,
      "outputs": [
        {
          "output_type": "stream",
          "name": "stdout",
          "text": [
            "Number of tokens in the file: 4835\n"
          ]
        }
      ]
    },
    {
      "cell_type": "markdown",
      "source": [
        "How many sentences are contained in the file?"
      ],
      "metadata": {
        "id": "m_VG23-r614y"
      }
    },
    {
      "cell_type": "code",
      "source": [
        "sentence_count = len(list(doc.sents))\n",
        "print(f\"Number of sentences in the files: {sentence_count}\")"
      ],
      "metadata": {
        "colab": {
          "base_uri": "https://localhost:8080/"
        },
        "id": "SLhfyRga57j1",
        "outputId": "8bad55eb-5af0-4ac8-a125-451ec968f483"
      },
      "execution_count": 6,
      "outputs": [
        {
          "output_type": "stream",
          "name": "stdout",
          "text": [
            "Number of sentences in the files: 204\n"
          ]
        }
      ]
    },
    {
      "cell_type": "markdown",
      "source": [
        "Print the second sentence in the document"
      ],
      "metadata": {
        "id": "sdWwlNF97dDh"
      }
    },
    {
      "cell_type": "code",
      "source": [
        "sentences = list(doc.sents)\n",
        "second_sentence = sentences[1]\n",
        "print(second_sentence)\n",
        "\n"
      ],
      "metadata": {
        "colab": {
          "base_uri": "https://localhost:8080/"
        },
        "id": "tlc7xgcO57hR",
        "outputId": "a36d04b9-5d88-45bd-8e96-85fb17063e91"
      },
      "execution_count": 8,
      "outputs": [
        {
          "output_type": "stream",
          "name": "stdout",
          "text": [
            "The man's hands were behind\n",
            "his back, the wrists bound with a cord.  \n"
          ]
        }
      ]
    },
    {
      "cell_type": "markdown",
      "source": [
        "For each token in the sentence above, print its text, POS tag, dep tag and lemma."
      ],
      "metadata": {
        "id": "Ux1i5qr-8MrT"
      }
    },
    {
      "cell_type": "code",
      "source": [
        "for token in second_sentence:\n",
        "  print(f\"text: {token.text}, pos: {token.pos}, dep: {token.dep}, lemma: {token.lemma_}\")"
      ],
      "metadata": {
        "colab": {
          "base_uri": "https://localhost:8080/"
        },
        "id": "AeXqUvrK57e0",
        "outputId": "bfcf761f-83fa-4277-cce6-441f5690dba0"
      },
      "execution_count": 9,
      "outputs": [
        {
          "output_type": "stream",
          "name": "stdout",
          "text": [
            "text: The, pos: 90, dep: 415, lemma: the\n",
            "text: man, pos: 92, dep: 440, lemma: man\n",
            "text: 's, pos: 94, dep: 8110129090154140942, lemma: 's\n",
            "text: hands, pos: 92, dep: 429, lemma: hand\n",
            "text: were, pos: 87, dep: 8206900633647566924, lemma: be\n",
            "text: behind, pos: 85, dep: 443, lemma: behind\n",
            "text: \n",
            ", pos: 103, dep: 414, lemma: \n",
            "\n",
            "text: his, pos: 95, dep: 440, lemma: his\n",
            "text: back, pos: 92, dep: 439, lemma: back\n",
            "text: ,, pos: 97, dep: 445, lemma: ,\n",
            "text: the, pos: 90, dep: 415, lemma: the\n",
            "text: wrists, pos: 92, dep: 403, lemma: wrist\n",
            "text: bound, pos: 100, dep: 451, lemma: bind\n",
            "text: with, pos: 85, dep: 443, lemma: with\n",
            "text: a, pos: 90, dep: 415, lemma: a\n",
            "text: cord, pos: 92, dep: 439, lemma: cord\n",
            "text: ., pos: 97, dep: 445, lemma: .\n",
            "text:  , pos: 103, dep: 414, lemma:  \n"
          ]
        }
      ]
    },
    {
      "cell_type": "markdown",
      "source": [
        "Write a matcher called 'Swimming' that finds both occurrences of the phrase \"swimming vigorously\" in the text."
      ],
      "metadata": {
        "id": "ETPVpJEH-ty5"
      }
    },
    {
      "cell_type": "code",
      "source": [
        "matcher = Matcher(nlp.vocab)\n",
        "pattern1 = [{'LOWER': 'swimming'}, {'IS_SPACE': True, 'OP':'*'}, {'LOWER': 'vigorously'}]"
      ],
      "metadata": {
        "id": "nPlZFOjK56qw"
      },
      "execution_count": 16,
      "outputs": []
    },
    {
      "cell_type": "markdown",
      "source": [
        "Print the text surrounding each found match.\n"
      ],
      "metadata": {
        "id": "x0kAAOo1-y1u"
      }
    },
    {
      "cell_type": "code",
      "source": [
        "matcher.add('Swimming', [pattern1])\n",
        "matches = matcher(doc)\n",
        "for match in matches:\n",
        "  start, end = match[1], match[2]\n",
        "  print(doc[start-5:end+5])"
      ],
      "metadata": {
        "colab": {
          "base_uri": "https://localhost:8080/"
        },
        "id": "z0myowjm-0B7",
        "outputId": "3d6a9d0c-e67b-4e7d-ba08-396e77d5c180"
      },
      "execution_count": 17,
      "outputs": [
        {
          "output_type": "stream",
          "name": "stdout",
          "text": [
            "evade the bullets and, swimming\n",
            "vigorously, reach the bank,\n",
            "shoulder; he was now swimming\n",
            "vigorously with the current.  \n"
          ]
        }
      ]
    }
  ]
}