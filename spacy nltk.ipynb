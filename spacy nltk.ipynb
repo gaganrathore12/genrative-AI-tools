{
 "cells": [
  {
   "cell_type": "code",
   "execution_count": 3,
   "id": "ca6a8f90-357f-4c71-b5ea-6c66d665ee4b",
   "metadata": {},
   "outputs": [],
   "source": [
    "import nltk\n",
    "\n",
    "from nltk.stem.porter import PorterStemmer"
   ]
  },
  {
   "cell_type": "code",
   "execution_count": 4,
   "id": "5122ce5d-0a17-4de2-b075-bc024eb75df6",
   "metadata": {},
   "outputs": [],
   "source": [
    "p_stemmer = PorterStemmer()"
   ]
  },
  {
   "cell_type": "code",
   "execution_count": 5,
   "id": "d8a2d023-7d09-4b2e-9023-307d9ac1f725",
   "metadata": {},
   "outputs": [],
   "source": [
    "words = ['run','runner','running','ran','runs','easily','fairly']"
   ]
  },
  {
   "cell_type": "code",
   "execution_count": 7,
   "id": "9c5419d3-9ba8-4f49-8da7-c94da5e41d53",
   "metadata": {},
   "outputs": [
    {
     "name": "stdout",
     "output_type": "stream",
     "text": [
      "run --> run\n",
      "runner --> runner\n",
      "running --> run\n",
      "ran --> ran\n",
      "runs --> run\n",
      "easily --> easili\n",
      "fairly --> fairli\n"
     ]
    }
   ],
   "source": [
    "for word in words:\n",
    "    print(word+' --> '+p_stemmer.stem(word))"
   ]
  },
  {
   "cell_type": "code",
   "execution_count": 9,
   "id": "7fb69841-f576-4a94-aed7-617ec916ef2b",
   "metadata": {},
   "outputs": [
    {
     "name": "stdout",
     "output_type": "stream",
     "text": [
      "i --> i\n",
      "am --> am\n",
      "meeting --> meet\n",
      "him --> him\n",
      "tomorrow --> tomorrow\n",
      "at --> at\n",
      "the --> the\n",
      "meeting --> meet\n"
     ]
    }
   ],
   "source": [
    "phase = 'i am meeting him tomorrow at the meeting'\n",
    "for word in phase.split():\n",
    "    print(word+' --> '+p_stemmer.stem(word))"
   ]
  },
  {
   "cell_type": "code",
   "execution_count": 10,
   "id": "45a59050-841d-4868-afcf-54d538bdd255",
   "metadata": {},
   "outputs": [],
   "source": [
    "from nltk.stem.snowball import SnowballStemmer\n",
    "\n",
    "\n",
    "s_stemmer = SnowballStemmer(language ='english')"
   ]
  },
  {
   "cell_type": "code",
   "execution_count": 11,
   "id": "44a33bc0-9c24-4484-ae34-61686f7d54db",
   "metadata": {},
   "outputs": [],
   "source": [
    "words = ['run','runner','running','ran','runs','easily','fairly']"
   ]
  },
  {
   "cell_type": "code",
   "execution_count": 12,
   "id": "dbba01c1-4053-4570-8a67-bd726e5ab013",
   "metadata": {},
   "outputs": [
    {
     "name": "stdout",
     "output_type": "stream",
     "text": [
      "run --> run\n",
      "runner --> runner\n",
      "running --> run\n",
      "ran --> ran\n",
      "runs --> run\n",
      "easily --> easili\n",
      "fairly --> fair\n"
     ]
    }
   ],
   "source": [
    "for word in words:\n",
    "    print(word+' --> '+s_stemmer.stem(word))"
   ]
  },
  {
   "cell_type": "code",
   "execution_count": 13,
   "id": "58986d87-170e-4111-9e3d-b0d696359d3c",
   "metadata": {},
   "outputs": [],
   "source": [
    "words = ['consolingly']"
   ]
  },
  {
   "cell_type": "code",
   "execution_count": 14,
   "id": "ecc4d26f-e60c-4923-846a-c2cdce8299c5",
   "metadata": {},
   "outputs": [
    {
     "name": "stdout",
     "output_type": "stream",
     "text": [
      "consolingly --> consolingli\n"
     ]
    }
   ],
   "source": [
    "for t in words:\n",
    "    print(t+' --> '+p_stemmer.stem(t))"
   ]
  },
  {
   "cell_type": "code",
   "execution_count": 15,
   "id": "a451311c-60ca-4c80-90a8-cd9899a8f93f",
   "metadata": {},
   "outputs": [
    {
     "name": "stdout",
     "output_type": "stream",
     "text": [
      "consolingly --> consol\n"
     ]
    }
   ],
   "source": [
    "for t in words:\n",
    "    print(t+' --> '+s_stemmer.stem(t))"
   ]
  },
  {
   "cell_type": "code",
   "execution_count": 16,
   "id": "5a46fabd-ee81-4b5b-a608-37d18d0c0678",
   "metadata": {},
   "outputs": [],
   "source": [
    "sentence = 'my name is gagan rathore'"
   ]
  },
  {
   "cell_type": "code",
   "execution_count": 18,
   "id": "5e4fdca0-e1ef-4c4d-b065-b0b051a80b36",
   "metadata": {},
   "outputs": [
    {
     "name": "stdout",
     "output_type": "stream",
     "text": [
      "my --> my\n",
      "name --> name\n",
      "is --> is\n",
      "gagan --> gagan\n",
      "rathore --> rathor\n"
     ]
    }
   ],
   "source": [
    "for x in sentence.split():\n",
    "    print(x+' --> '+s_stemmer.stem(x))"
   ]
  },
  {
   "cell_type": "code",
   "execution_count": 19,
   "id": "30a04e7d-bf2c-433c-98a3-afe747a334c8",
   "metadata": {},
   "outputs": [
    {
     "name": "stdout",
     "output_type": "stream",
     "text": [
      "my --> my\n",
      "name --> name\n",
      "is --> is\n",
      "gagan --> gagan\n",
      "rathore --> rathor\n"
     ]
    }
   ],
   "source": [
    "for x in sentence.split():\n",
    "    print(x+' --> '+p_stemmer.stem(x))"
   ]
  },
  {
   "cell_type": "code",
   "execution_count": null,
   "id": "9df1460e-f3ef-4f06-9d3d-930c447f2f28",
   "metadata": {},
   "outputs": [],
   "source": []
  }
 ],
 "metadata": {
  "kernelspec": {
   "display_name": "Python 3 (ipykernel)",
   "language": "python",
   "name": "python3"
  },
  "language_info": {
   "codemirror_mode": {
    "name": "ipython",
    "version": 3
   },
   "file_extension": ".py",
   "mimetype": "text/x-python",
   "name": "python",
   "nbconvert_exporter": "python",
   "pygments_lexer": "ipython3",
   "version": "3.12.7"
  }
 },
 "nbformat": 4,
 "nbformat_minor": 5
}
